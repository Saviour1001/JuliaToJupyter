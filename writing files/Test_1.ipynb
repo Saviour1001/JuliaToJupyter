{ 
 "cells": [
{
    "cell_type": "markdown",
    "source": "[## How do you do ?]",
    "metadata": "{}"
}
,
{
  "outputs": "[]",
  "cell_type": "code",
  "source": "[a=10]",
  "metadata": "{}",
  "execution_count": "null"
}
,
{
  "outputs": "[]",
  "cell_type": "code",
  "source": "[b=20]",
  "metadata": "{}",
  "execution_count": "null"
}
,
{
  "outputs": "[]",
  "cell_type": "code",
  "source": "[c=a+b]",
  "metadata": "{}",
  "execution_count": "null"
}
,
{
  "outputs": "[]",
  "cell_type": "code",
  "source": "[println(c)]",
  "metadata": "{}",
  "execution_count": "null"
}
,
{
  "outputs": "[]",
  "cell_type": "code",
  "source": "[function sum(x,y)]",
  "metadata": "{}",
  "execution_count": "null"
}
,
{
  "outputs": "[]",
  "cell_type": "code",
  "source": "[    return x+y]",
  "metadata": "{}",
  "execution_count": "null"
}
,
{
  "outputs": "[]",
  "cell_type": "code",
  "source": "[end]",
  "metadata": "{}",
  "execution_count": "null"
}
,
],
"metadata": {
 "kernelspec": {
  "display_name": "Julia 1.5.3",
  "language": "julia",
  "name": "julia-1.5"
 },
 "language_info": {
  "file_extension": ".jl",
  "mimetype": "application/julia",
  "name": "julia",
  "version": "1.5.3"
 }
},
"nbformat": 4,
"nbformat_minor": 4
}