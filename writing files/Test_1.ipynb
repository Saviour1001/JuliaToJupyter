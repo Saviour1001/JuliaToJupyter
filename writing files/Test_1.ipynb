{
    "cell_type": "markdown",
    "source": "[## How do you do ?]",
    "metadata": "{}"
}
{
  "outputs": "[]",
  "cell_type": "code",
  "source": "[a=10]",
  "metadata": "{}",
  "execution_count": "null"
}
{
  "outputs": "[]",
  "cell_type": "code",
  "source": "[b=20]",
  "metadata": "{}",
  "execution_count": "null"
}
{
  "outputs": "[]",
  "cell_type": "code",
  "source": "[c=a+b]",
  "metadata": "{}",
  "execution_count": "null"
}
{
  "outputs": "[]",
  "cell_type": "code",
  "source": "[println(c)]",
  "metadata": "{}",
  "execution_count": "null"
}
{
  "outputs": "[]",
  "cell_type": "code",
  "source": "[function sum(x,y)]",
  "metadata": "{}",
  "execution_count": "null"
}
{
  "outputs": "[]",
  "cell_type": "code",
  "source": "[    return x+y]",
  "metadata": "{}",
  "execution_count": "null"
}
{
  "outputs": "[]",
  "cell_type": "code",
  "source": "[end]",
  "metadata": "{}",
  "execution_count": "null"
}
